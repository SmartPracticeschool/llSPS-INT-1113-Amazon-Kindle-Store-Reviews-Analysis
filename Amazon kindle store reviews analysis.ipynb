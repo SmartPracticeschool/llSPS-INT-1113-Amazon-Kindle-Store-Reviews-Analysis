{
 "cells": [
  {
   "cell_type": "markdown",
   "metadata": {},
   "source": [
    "# Amazon kindle store Reviews"
   ]
  },
  {
   "cell_type": "markdown",
   "metadata": {},
   "source": [
    "Description:\n",
    "\n",
    "Amazon Kindle Store is an e-book e-commerce store for all the book reading hobbyists. Online reviews are a category of product information created by the users based on personal handling experience. Online shopping websites endow with platforms for consumers to review products and carve up opinions. Sentiment analysis or opinion mining is nothing but classification of emotions in the reviews text into positive, negative and neutral. Opinion mining is a method of information extraction from text processing to improve or develop the business work by review analysis. The problem is most of the comments from customer reviews about the products are contradicted to their ratings. Many customer will post their comments and forgot to rate the product or not engrossed to rate it. In this work we have designed a classifier model which accepts all the reviews and group them into two categories as reviews with ratings and reviews with blank or empty ratings. Further prediction of sentiments using various classifiers is done for the reviews without ratings.\n"
   ]
  },
  {
   "cell_type": "code",
   "execution_count": 2,
   "metadata": {},
   "outputs": [
    {
     "data": {
      "text/plain": [
       "'C:\\\\Users\\\\gopia\\\\Desktop\\\\internship project\\\\codes'"
      ]
     },
     "execution_count": 2,
     "metadata": {},
     "output_type": "execute_result"
    }
   ],
   "source": [
    "import os\n",
    "os.getcwd()"
   ]
  },
  {
   "cell_type": "code",
   "execution_count": 3,
   "metadata": {},
   "outputs": [],
   "source": [
    "os.chdir(r\"C:\\Users\\gopia\\Desktop\\internship project\\Data set\")"
   ]
  },
  {
   "cell_type": "code",
   "execution_count": 4,
   "metadata": {},
   "outputs": [
    {
     "data": {
      "text/plain": [
       "'C:\\\\Users\\\\gopia\\\\Desktop\\\\internship project\\\\Data set'"
      ]
     },
     "execution_count": 4,
     "metadata": {},
     "output_type": "execute_result"
    }
   ],
   "source": [
    "os.getcwd()"
   ]
  },
  {
   "cell_type": "markdown",
   "metadata": {},
   "source": [
    "# Importing the libraries"
   ]
  },
  {
   "cell_type": "code",
   "execution_count": 5,
   "metadata": {
    "scrolled": true
   },
   "outputs": [],
   "source": [
    "import numpy as np #import numerical data\n",
    "import pandas as pd #contains manipulate function\n",
    "import matplotlib.pyplot as plt #matplotlib. pyplot is a collection of command style functions that make matplotlib work like MATLAB. Each pyplot function makes some change to a figure: e.g., creates a figure, creates a plotting area in a figure, plots some lines in a plotting area, decorates the plot with labels, etc.\n",
    "\n"
   ]
  },
  {
   "cell_type": "markdown",
   "metadata": {},
   "source": [
    "# Importing the dataset "
   ]
  },
  {
   "cell_type": "markdown",
   "metadata": {},
   "source": [
    "The dataset is available in two forms\n",
    "\n",
    "1.csv file\n",
    "\n",
    "2.SQLite Database\n",
    "\n",
    "In order to load the data, We have used the SQLITE dataset as it easier to query the data and visualise the data efficiently.\n",
    "\n",
    "Here as we only want to get the global sentiment of the recommendations (positive or negative), we will purposefully ignore all Scores equal to 3. If the score id above 3, then the recommendation wil be set to \"positive\". Otherwise, it will be set to \"negative\".\n",
    "\n"
   ]
  },
  {
   "cell_type": "code",
   "execution_count": 50,
   "metadata": {},
   "outputs": [
    {
     "data": {
      "text/html": [
       "<div>\n",
       "<style scoped>\n",
       "    .dataframe tbody tr th:only-of-type {\n",
       "        vertical-align: middle;\n",
       "    }\n",
       "\n",
       "    .dataframe tbody tr th {\n",
       "        vertical-align: top;\n",
       "    }\n",
       "\n",
       "    .dataframe thead th {\n",
       "        text-align: right;\n",
       "    }\n",
       "</style>\n",
       "<table border=\"1\" class=\"dataframe\">\n",
       "  <thead>\n",
       "    <tr style=\"text-align: right;\">\n",
       "      <th></th>\n",
       "      <th>Unnamed: 0</th>\n",
       "      <th>asin</th>\n",
       "      <th>helpful</th>\n",
       "      <th>overall</th>\n",
       "      <th>reviewText</th>\n",
       "      <th>reviewTime</th>\n",
       "      <th>reviewerID</th>\n",
       "      <th>reviewerName</th>\n",
       "      <th>summary</th>\n",
       "      <th>unixReviewTime</th>\n",
       "    </tr>\n",
       "  </thead>\n",
       "  <tbody>\n",
       "    <tr>\n",
       "      <th>0</th>\n",
       "      <td>0</td>\n",
       "      <td>B000F83SZQ</td>\n",
       "      <td>[0, 0]</td>\n",
       "      <td>5</td>\n",
       "      <td>I enjoy vintage books and movies so I enjoyed ...</td>\n",
       "      <td>05 5, 2014</td>\n",
       "      <td>A1F6404F1VG29J</td>\n",
       "      <td>Avidreader</td>\n",
       "      <td>Nice vintage story</td>\n",
       "      <td>1399248000</td>\n",
       "    </tr>\n",
       "    <tr>\n",
       "      <th>1</th>\n",
       "      <td>1</td>\n",
       "      <td>B000F83SZQ</td>\n",
       "      <td>[2, 2]</td>\n",
       "      <td>4</td>\n",
       "      <td>This book is a reissue of an old one; the auth...</td>\n",
       "      <td>01 6, 2014</td>\n",
       "      <td>AN0N05A9LIJEQ</td>\n",
       "      <td>critters</td>\n",
       "      <td>Different...</td>\n",
       "      <td>1388966400</td>\n",
       "    </tr>\n",
       "    <tr>\n",
       "      <th>2</th>\n",
       "      <td>2</td>\n",
       "      <td>B000F83SZQ</td>\n",
       "      <td>[2, 2]</td>\n",
       "      <td>4</td>\n",
       "      <td>This was a fairly interesting read.  It had ol...</td>\n",
       "      <td>04 4, 2014</td>\n",
       "      <td>A795DMNCJILA6</td>\n",
       "      <td>dot</td>\n",
       "      <td>Oldie</td>\n",
       "      <td>1396569600</td>\n",
       "    </tr>\n",
       "    <tr>\n",
       "      <th>3</th>\n",
       "      <td>3</td>\n",
       "      <td>B000F83SZQ</td>\n",
       "      <td>[1, 1]</td>\n",
       "      <td>5</td>\n",
       "      <td>I'd never read any of the Amy Brewster mysteri...</td>\n",
       "      <td>02 19, 2014</td>\n",
       "      <td>A1FV0SX13TWVXQ</td>\n",
       "      <td>Elaine H. Turley \"Montana Songbird\"</td>\n",
       "      <td>I really liked it.</td>\n",
       "      <td>1392768000</td>\n",
       "    </tr>\n",
       "    <tr>\n",
       "      <th>4</th>\n",
       "      <td>4</td>\n",
       "      <td>B000F83SZQ</td>\n",
       "      <td>[0, 1]</td>\n",
       "      <td>4</td>\n",
       "      <td>If you like period pieces - clothing, lingo, y...</td>\n",
       "      <td>03 19, 2014</td>\n",
       "      <td>A3SPTOKDG7WBLN</td>\n",
       "      <td>Father Dowling Fan</td>\n",
       "      <td>Period Mystery</td>\n",
       "      <td>1395187200</td>\n",
       "    </tr>\n",
       "    <tr>\n",
       "      <th>...</th>\n",
       "      <td>...</td>\n",
       "      <td>...</td>\n",
       "      <td>...</td>\n",
       "      <td>...</td>\n",
       "      <td>...</td>\n",
       "      <td>...</td>\n",
       "      <td>...</td>\n",
       "      <td>...</td>\n",
       "      <td>...</td>\n",
       "      <td>...</td>\n",
       "    </tr>\n",
       "    <tr>\n",
       "      <th>15157</th>\n",
       "      <td>15157</td>\n",
       "      <td>B003CT31VQ</td>\n",
       "      <td>[1, 1]</td>\n",
       "      <td>5</td>\n",
       "      <td>thrilling story with a great lineup of charact...</td>\n",
       "      <td>05 29, 2013</td>\n",
       "      <td>A1393Z698SVLTP</td>\n",
       "      <td>Roy Henson</td>\n",
       "      <td>could not put my kindle down!</td>\n",
       "      <td>1369785600</td>\n",
       "    </tr>\n",
       "    <tr>\n",
       "      <th>15158</th>\n",
       "      <td>15158</td>\n",
       "      <td>B003CT31VQ</td>\n",
       "      <td>[1, 1]</td>\n",
       "      <td>5</td>\n",
       "      <td>Daveny loves landscaping and is excited to be ...</td>\n",
       "      <td>05 17, 2010</td>\n",
       "      <td>A2YXNKWOGHP6AW</td>\n",
       "      <td>Sandy</td>\n",
       "      <td>Forgiveness comes to Collin...</td>\n",
       "      <td>1274054400</td>\n",
       "    </tr>\n",
       "    <tr>\n",
       "      <th>15159</th>\n",
       "      <td>15159</td>\n",
       "      <td>B003CT31VQ</td>\n",
       "      <td>[0, 0]</td>\n",
       "      <td>4</td>\n",
       "      <td>A wonderfully, sweet Christian romance that in...</td>\n",
       "      <td>12 15, 2013</td>\n",
       "      <td>A8UGU796JGMJU</td>\n",
       "      <td>Shannon Sonneveldt</td>\n",
       "      <td>Sweet Christian Romance</td>\n",
       "      <td>1387065600</td>\n",
       "    </tr>\n",
       "    <tr>\n",
       "      <th>15160</th>\n",
       "      <td>15160</td>\n",
       "      <td>B003CT31VQ</td>\n",
       "      <td>[1, 1]</td>\n",
       "      <td>4</td>\n",
       "      <td>Colin's traumatic experience and soul struggle...</td>\n",
       "      <td>04 11, 2014</td>\n",
       "      <td>A1GQEH3S58URDX</td>\n",
       "      <td>Sunshine</td>\n",
       "      <td>Heart Warming</td>\n",
       "      <td>1397174400</td>\n",
       "    </tr>\n",
       "    <tr>\n",
       "      <th>15161</th>\n",
       "      <td>15161</td>\n",
       "      <td>B003CT31VQ</td>\n",
       "      <td>[1, 1]</td>\n",
       "      <td>5</td>\n",
       "      <td>First - this is a novella, but one delightfull...</td>\n",
       "      <td>04 25, 2013</td>\n",
       "      <td>A3CG4N3WC8J6D4</td>\n",
       "      <td>Susan M. Baganz \"Silygoos\"</td>\n",
       "      <td>Delightful, heartfelt novella</td>\n",
       "      <td>1366848000</td>\n",
       "    </tr>\n",
       "  </tbody>\n",
       "</table>\n",
       "<p>15162 rows × 10 columns</p>\n",
       "</div>"
      ],
      "text/plain": [
       "       Unnamed: 0        asin helpful  overall  \\\n",
       "0               0  B000F83SZQ  [0, 0]        5   \n",
       "1               1  B000F83SZQ  [2, 2]        4   \n",
       "2               2  B000F83SZQ  [2, 2]        4   \n",
       "3               3  B000F83SZQ  [1, 1]        5   \n",
       "4               4  B000F83SZQ  [0, 1]        4   \n",
       "...           ...         ...     ...      ...   \n",
       "15157       15157  B003CT31VQ  [1, 1]        5   \n",
       "15158       15158  B003CT31VQ  [1, 1]        5   \n",
       "15159       15159  B003CT31VQ  [0, 0]        4   \n",
       "15160       15160  B003CT31VQ  [1, 1]        4   \n",
       "15161       15161  B003CT31VQ  [1, 1]        5   \n",
       "\n",
       "                                              reviewText   reviewTime  \\\n",
       "0      I enjoy vintage books and movies so I enjoyed ...   05 5, 2014   \n",
       "1      This book is a reissue of an old one; the auth...   01 6, 2014   \n",
       "2      This was a fairly interesting read.  It had ol...   04 4, 2014   \n",
       "3      I'd never read any of the Amy Brewster mysteri...  02 19, 2014   \n",
       "4      If you like period pieces - clothing, lingo, y...  03 19, 2014   \n",
       "...                                                  ...          ...   \n",
       "15157  thrilling story with a great lineup of charact...  05 29, 2013   \n",
       "15158  Daveny loves landscaping and is excited to be ...  05 17, 2010   \n",
       "15159  A wonderfully, sweet Christian romance that in...  12 15, 2013   \n",
       "15160  Colin's traumatic experience and soul struggle...  04 11, 2014   \n",
       "15161  First - this is a novella, but one delightfull...  04 25, 2013   \n",
       "\n",
       "           reviewerID                         reviewerName  \\\n",
       "0      A1F6404F1VG29J                           Avidreader   \n",
       "1       AN0N05A9LIJEQ                             critters   \n",
       "2       A795DMNCJILA6                                  dot   \n",
       "3      A1FV0SX13TWVXQ  Elaine H. Turley \"Montana Songbird\"   \n",
       "4      A3SPTOKDG7WBLN                   Father Dowling Fan   \n",
       "...               ...                                  ...   \n",
       "15157  A1393Z698SVLTP                           Roy Henson   \n",
       "15158  A2YXNKWOGHP6AW                                Sandy   \n",
       "15159   A8UGU796JGMJU                   Shannon Sonneveldt   \n",
       "15160  A1GQEH3S58URDX                             Sunshine   \n",
       "15161  A3CG4N3WC8J6D4           Susan M. Baganz \"Silygoos\"   \n",
       "\n",
       "                              summary  unixReviewTime  \n",
       "0                  Nice vintage story      1399248000  \n",
       "1                        Different...      1388966400  \n",
       "2                               Oldie      1396569600  \n",
       "3                  I really liked it.      1392768000  \n",
       "4                      Period Mystery      1395187200  \n",
       "...                               ...             ...  \n",
       "15157   could not put my kindle down!      1369785600  \n",
       "15158  Forgiveness comes to Collin...      1274054400  \n",
       "15159         Sweet Christian Romance      1387065600  \n",
       "15160                   Heart Warming      1397174400  \n",
       "15161   Delightful, heartfelt novella      1366848000  \n",
       "\n",
       "[15162 rows x 10 columns]"
      ]
     },
     "execution_count": 50,
     "metadata": {},
     "output_type": "execute_result"
    }
   ],
   "source": [
    "data1=pd.read_csv(\"kindle_reviews.csv\") #the data in the csv file is stored in data1\n",
    "data1"
   ]
  },
  {
   "cell_type": "markdown",
   "metadata": {},
   "source": [
    "# Exploratory Data Analysis (EDA)"
   ]
  },
  {
   "cell_type": "code",
   "execution_count": 51,
   "metadata": {},
   "outputs": [
    {
     "data": {
      "text/html": [
       "<div>\n",
       "<style scoped>\n",
       "    .dataframe tbody tr th:only-of-type {\n",
       "        vertical-align: middle;\n",
       "    }\n",
       "\n",
       "    .dataframe tbody tr th {\n",
       "        vertical-align: top;\n",
       "    }\n",
       "\n",
       "    .dataframe thead th {\n",
       "        text-align: right;\n",
       "    }\n",
       "</style>\n",
       "<table border=\"1\" class=\"dataframe\">\n",
       "  <thead>\n",
       "    <tr style=\"text-align: right;\">\n",
       "      <th></th>\n",
       "      <th>count</th>\n",
       "      <th>unique</th>\n",
       "      <th>top</th>\n",
       "      <th>freq</th>\n",
       "    </tr>\n",
       "    <tr>\n",
       "      <th>overall</th>\n",
       "      <th></th>\n",
       "      <th></th>\n",
       "      <th></th>\n",
       "      <th></th>\n",
       "    </tr>\n",
       "  </thead>\n",
       "  <tbody>\n",
       "    <tr>\n",
       "      <th>1</th>\n",
       "      <td>675</td>\n",
       "      <td>639</td>\n",
       "      <td>Boring</td>\n",
       "      <td>7</td>\n",
       "    </tr>\n",
       "    <tr>\n",
       "      <th>2</th>\n",
       "      <td>899</td>\n",
       "      <td>857</td>\n",
       "      <td>Disappointing</td>\n",
       "      <td>5</td>\n",
       "    </tr>\n",
       "    <tr>\n",
       "      <th>3</th>\n",
       "      <td>2134</td>\n",
       "      <td>1935</td>\n",
       "      <td>Good</td>\n",
       "      <td>15</td>\n",
       "    </tr>\n",
       "    <tr>\n",
       "      <th>4</th>\n",
       "      <td>4521</td>\n",
       "      <td>3870</td>\n",
       "      <td>Good</td>\n",
       "      <td>42</td>\n",
       "    </tr>\n",
       "    <tr>\n",
       "      <th>5</th>\n",
       "      <td>6933</td>\n",
       "      <td>5704</td>\n",
       "      <td>Loved it</td>\n",
       "      <td>35</td>\n",
       "    </tr>\n",
       "  </tbody>\n",
       "</table>\n",
       "</div>"
      ],
      "text/plain": [
       "        count unique            top freq\n",
       "overall                                 \n",
       "1         675    639         Boring    7\n",
       "2         899    857  Disappointing    5\n",
       "3        2134   1935           Good   15\n",
       "4        4521   3870           Good   42\n",
       "5        6933   5704       Loved it   35"
      ]
     },
     "execution_count": 51,
     "metadata": {},
     "output_type": "execute_result"
    }
   ],
   "source": [
    "data1.groupby('overall')['summary'].describe()"
   ]
  },
  {
   "cell_type": "code",
   "execution_count": 52,
   "metadata": {},
   "outputs": [
    {
     "data": {
      "text/plain": [
       "overall\n",
       "1     675\n",
       "2     899\n",
       "3    2134\n",
       "4    4521\n",
       "5    6933\n",
       "Name: overall, dtype: int64"
      ]
     },
     "execution_count": 52,
     "metadata": {},
     "output_type": "execute_result"
    }
   ],
   "source": [
    "data1.groupby('overall').overall.count()"
   ]
  },
  {
   "cell_type": "code",
   "execution_count": 53,
   "metadata": {},
   "outputs": [
    {
     "data": {
      "text/plain": [
       "<matplotlib.axes._subplots.AxesSubplot at 0x16d84cefb48>"
      ]
     },
     "execution_count": 53,
     "metadata": {},
     "output_type": "execute_result"
    },
    {
     "data": {
      "image/png": "[encoded data removed]",
      "text/plain": [
       "<Figure size 432x288 with 1 Axes>"
      ]
     },
     "metadata": {},
     "output_type": "display_data"
    }
   ],
   "source": [
    "%matplotlib inline\n",
    "data1.groupby('overall').overall.count().plot(kind='pie',autopct='%1.1f%%',startangle=90,explode=(0,0.1,0,0,0),)"
   ]
  },
  {
   "cell_type": "markdown",
   "metadata": {},
   "source": [
    "# Text Cleaning or Pre-processing "
   ]
  },
  {
   "cell_type": "markdown",
   "metadata": {},
   "source": [
    "Now that we have finished deduplication our data requires some preprocessing before we go on further with analysis and making the prediction model.\n",
    "1.Begin by removing the html tags\n",
    "\n",
    "2.Remove any punctuations or limited set of special characters like , or . or # etc.\n",
    "\n",
    "3.Check if the word is made up of english letters and is not alpha-numeric\n",
    "\n",
    "4.Check to see if the length of the word is greater than 2 (as it was researched that there is no adjective in 2-letters)\n",
    "\n",
    "4.Convert the word to lowercase\n",
    "\n",
    "6.Remove Stopwords\n",
    "\n",
    "\n",
    "Finally Snowball Stemming the word (it was obsereved to be better than Porter Stemming)\n"
   ]
  },
  {
   "cell_type": "code",
   "execution_count": 54,
   "metadata": {},
   "outputs": [],
   "source": [
    "# Import libraries\n",
    "import re  #“Re” is the library which is used to replace the selected special characters with desired parameter.\n",
    "import nltk #“NLTK” – Natural language Tool Kit is the library used for stemming using a special class in the library. "
   ]
  },
  {
   "cell_type": "markdown",
   "metadata": {},
   "source": [
    "# import library for remove Stopwords"
   ]
  },
  {
   "cell_type": "code",
   "execution_count": 55,
   "metadata": {},
   "outputs": [
    {
     "name": "stderr",
     "output_type": "stream",
     "text": [
      "[nltk_data] Downloading package stopwords to\n",
      "[nltk_data]     C:\\Users\\gopia\\AppData\\Roaming\\nltk_data...\n",
      "[nltk_data]   Package stopwords is already up-to-date!\n"
     ]
    },
    {
     "data": {
      "text/plain": [
       "True"
      ]
     },
     "execution_count": 55,
     "metadata": {},
     "output_type": "execute_result"
    }
   ],
   "source": [
    "nltk.download('stopwords')"
   ]
  },
  {
   "cell_type": "code",
   "execution_count": 56,
   "metadata": {},
   "outputs": [],
   "source": [
    "from nltk.corpus import stopwords"
   ]
  },
  {
   "cell_type": "markdown",
   "metadata": {},
   "source": [
    "# import library for stemming"
   ]
  },
  {
   "cell_type": "code",
   "execution_count": 57,
   "metadata": {},
   "outputs": [],
   "source": [
    "from nltk.stem.porter import PorterStemmer\n",
    "ps=PorterStemmer()\n",
    "data=[]"
   ]
  },
  {
   "cell_type": "markdown",
   "metadata": {},
   "source": [
    "# Remove Punctuation,Numbers\n",
    "# Convert each word into its lower case\n",
    "# Stemming"
   ]
  },
  {
   "cell_type": "markdown",
   "metadata": {},
   "source": [
    "Stemming is the process of producing morphological variants of a root/base word. Stemming programs are commonly referred to as stemming algorithms or stemmers. To stem each word first we have to split the review in to a list and then apply stemming functionality. we use port stemmer class for stemming purpose. We are also removing stop words like “this”, “that”, “and”, “is”, “what” etc. The syntax checks all the words in the list which is split, if the word is not a stop word then you are applying stemming to stem the selected word” "
   ]
  },
  {
   "cell_type": "code",
   "execution_count": 74,
   "metadata": {},
   "outputs": [],
   "source": [
    "for i in range(0,15162):\n",
    "    review = data1[\"reviewText\"][i]\n",
    "    review = re.sub('[^a-zA-Z]', ' ', review)\n",
    "    review = review.lower()\n",
    "    review = review.split()\n",
    "    review = [ps.stem(word) for word in review if not word in set(stopwords.words('english'))]\n",
    "    review = ' '.join(review)\n",
    "    data.append(review)"
   ]
  },
  {
   "cell_type": "code",
   "execution_count": 75,
   "metadata": {},
   "outputs": [
    {
     "data": {
      "text/plain": [
       "['enjoy vintag book movi enjoy read book plot unusu think kill someon self defens leav scene bodi without notifi polic hit someon jaw knock would wash today still good read',\n",
       " 'book reissu old one author born era say nero wolf introduct quit interest explain author forgotten never heard languag littl date time like call gun heater also made good use fire dictionari look word like deshabil canarsi still well worth look see',\n",
       " 'fairli interest read old style terminolog glad get read stori coars crasslanguag read fun relax like free ebooksbecaus check writer decid intrigu innov enough command englishthat convey stori without crude languag',\n",
       " 'never read ami brewster mysteri one realli hook',\n",
       " 'like period piec cloth lingo enjoy mysteri author guess least way',\n",
       " 'beauti depth charact descript make like fast pace movi piti mr merwin write instead ami brewster mysteri',\n",
       " 'enjoy one tho sure call ami brewster mysteri much clean well written charact well drawn',\n",
       " 'never heard ami brewster need like ami brewster like book actual ami brewster side kick stori ad mysteri stori one resolv stori bring back old time simpl life simpl peopl straight relationship',\n",
       " 'darth maul work cloak dark commit sabotag stori worth read mani time great stori',\n",
       " 'short stori focus darth maul role help trade feder gain mine coloni bad also noth except fairli short realli get see charact develop event happen seem go quickli includ major battl stori includ novelshadow hunter star war darth maul worth read bother buy one separ']"
      ]
     },
     "execution_count": 75,
     "metadata": {},
     "output_type": "execute_result"
    }
   ],
   "source": [
    "data[:10]"
   ]
  },
  {
   "cell_type": "markdown",
   "metadata": {},
   "source": [
    "# split the data set into train and test"
   ]
  },
  {
   "cell_type": "code",
   "execution_count": 93,
   "metadata": {},
   "outputs": [
    {
     "data": {
      "text/plain": [
       "'!\"#$%&\\'()*+,-./:;<=>?@[\\\\]^_`{|}~'"
      ]
     },
     "execution_count": 93,
     "metadata": {},
     "output_type": "execute_result"
    }
   ],
   "source": [
    "import string\n",
    "string.punctuation"
   ]
  },
  {
   "cell_type": "code",
   "execution_count": 104,
   "metadata": {},
   "outputs": [
    {
     "name": "stdout",
     "output_type": "stream",
     "text": [
      "(15162,)\n",
      "<class 'numpy.ndarray'>\n",
      "(15162,)\n",
      "<class 'numpy.ndarray'>\n"
     ]
    }
   ],
   "source": [
    "Y = data1['summary'].values\n",
    "X = data1['reviewText'].values\n",
    "print(Y.shape)\n",
    "print(type(Y))\n",
    "print(X.shape)\n",
    "print(type(X))"
   ]
  },
  {
   "cell_type": "code",
   "execution_count": 105,
   "metadata": {},
   "outputs": [
    {
     "name": "stdout",
     "output_type": "stream",
     "text": [
      "====================================================================================================\n",
      "After splitting\n",
      "X_Train Shape: (10613,) Y_Train Shape: (10613,)\n",
      "X_cv Shape: (4549,) Y_cv Shape (4549,)\n",
      "X_Test Shape (4549,) Y_Test Shape (4549,)\n"
     ]
    }
   ],
   "source": [
    "# split the data set into train and test\n",
    "X_Train, X_Test, Y_Train, Y_Test = train_test_split(X,Y,test_size=0.3, random_state=12, shuffle = False)\n",
    "\n",
    "# split the train data set into cross validation train and cross validation test\n",
    "X_tr, X_cv, Y_tr, Y_cv = train_test_split(X,Y, test_size=0.3, random_state=12, shuffle = False)\n",
    "\n",
    "print('='*100)\n",
    "print(\"After splitting\")\n",
    "print(\"X_Train Shape:\",X_Train.shape, \"Y_Train Shape:\",Y_Train.shape)\n",
    "print(\"X_cv Shape:\",X_cv.shape,       \"Y_cv Shape\",Y_cv.shape)\n",
    "print(\"X_Test Shape\",X_Test.shape,    \"Y_Test Shape\",Y_Test.shape)"
   ]
  },
  {
   "cell_type": "markdown",
   "metadata": {},
   "source": [
    "# Model Building"
   ]
  },
  {
   "cell_type": "markdown",
   "metadata": {},
   "source": [
    "After splitting your data into train and test in pre-processing steps then you should implement ANN algorithm The steps are as follows  \n",
    " Importing the libraries \n",
    "\n",
    " Initializing the model \n",
    "\n",
    " Adding input layer\n",
    "\n",
    " Adding Hidden \n",
    "\n",
    " Adding output layer\n",
    "\n",
    " Configuring the learning process  \n",
    "\n",
    " Training the model\n",
    "\n",
    " Saving the model\n",
    "\n",
    " Predictions \n",
    "\n",
    " "
   ]
  },
  {
   "cell_type": "markdown",
   "metadata": {},
   "source": [
    "# Importing the libraries"
   ]
  },
  {
   "cell_type": "markdown",
   "metadata": {},
   "source": [
    "import librart which usess tensor flow as backend"
   ]
  },
  {
   "cell_type": "code",
   "execution_count": 106,
   "metadata": {},
   "outputs": [
    {
     "name": "stderr",
     "output_type": "stream",
     "text": [
      "Using TensorFlow backend.\n",
      "C:\\Users\\gopia\\anaconda3\\lib\\site-packages\\tensorflow\\python\\framework\\dtypes.py:516: FutureWarning: Passing (type, 1) or '1type' as a synonym of type is deprecated; in a future version of numpy, it will be understood as (type, (1,)) / '(1,)type'.\n",
      "  _np_qint8 = np.dtype([(\"qint8\", np.int8, 1)])\n",
      "C:\\Users\\gopia\\anaconda3\\lib\\site-packages\\tensorflow\\python\\framework\\dtypes.py:517: FutureWarning: Passing (type, 1) or '1type' as a synonym of type is deprecated; in a future version of numpy, it will be understood as (type, (1,)) / '(1,)type'.\n",
      "  _np_quint8 = np.dtype([(\"quint8\", np.uint8, 1)])\n",
      "C:\\Users\\gopia\\anaconda3\\lib\\site-packages\\tensorflow\\python\\framework\\dtypes.py:518: FutureWarning: Passing (type, 1) or '1type' as a synonym of type is deprecated; in a future version of numpy, it will be understood as (type, (1,)) / '(1,)type'.\n",
      "  _np_qint16 = np.dtype([(\"qint16\", np.int16, 1)])\n",
      "C:\\Users\\gopia\\anaconda3\\lib\\site-packages\\tensorflow\\python\\framework\\dtypes.py:519: FutureWarning: Passing (type, 1) or '1type' as a synonym of type is deprecated; in a future version of numpy, it will be understood as (type, (1,)) / '(1,)type'.\n",
      "  _np_quint16 = np.dtype([(\"quint16\", np.uint16, 1)])\n",
      "C:\\Users\\gopia\\anaconda3\\lib\\site-packages\\tensorflow\\python\\framework\\dtypes.py:520: FutureWarning: Passing (type, 1) or '1type' as a synonym of type is deprecated; in a future version of numpy, it will be understood as (type, (1,)) / '(1,)type'.\n",
      "  _np_qint32 = np.dtype([(\"qint32\", np.int32, 1)])\n",
      "C:\\Users\\gopia\\anaconda3\\lib\\site-packages\\tensorflow\\python\\framework\\dtypes.py:525: FutureWarning: Passing (type, 1) or '1type' as a synonym of type is deprecated; in a future version of numpy, it will be understood as (type, (1,)) / '(1,)type'.\n",
      "  np_resource = np.dtype([(\"resource\", np.ubyte, 1)])\n",
      "C:\\Users\\gopia\\anaconda3\\lib\\site-packages\\tensorboard\\compat\\tensorflow_stub\\dtypes.py:541: FutureWarning: Passing (type, 1) or '1type' as a synonym of type is deprecated; in a future version of numpy, it will be understood as (type, (1,)) / '(1,)type'.\n",
      "  _np_qint8 = np.dtype([(\"qint8\", np.int8, 1)])\n",
      "C:\\Users\\gopia\\anaconda3\\lib\\site-packages\\tensorboard\\compat\\tensorflow_stub\\dtypes.py:542: FutureWarning: Passing (type, 1) or '1type' as a synonym of type is deprecated; in a future version of numpy, it will be understood as (type, (1,)) / '(1,)type'.\n",
      "  _np_quint8 = np.dtype([(\"quint8\", np.uint8, 1)])\n",
      "C:\\Users\\gopia\\anaconda3\\lib\\site-packages\\tensorboard\\compat\\tensorflow_stub\\dtypes.py:543: FutureWarning: Passing (type, 1) or '1type' as a synonym of type is deprecated; in a future version of numpy, it will be understood as (type, (1,)) / '(1,)type'.\n",
      "  _np_qint16 = np.dtype([(\"qint16\", np.int16, 1)])\n",
      "C:\\Users\\gopia\\anaconda3\\lib\\site-packages\\tensorboard\\compat\\tensorflow_stub\\dtypes.py:544: FutureWarning: Passing (type, 1) or '1type' as a synonym of type is deprecated; in a future version of numpy, it will be understood as (type, (1,)) / '(1,)type'.\n",
      "  _np_quint16 = np.dtype([(\"quint16\", np.uint16, 1)])\n",
      "C:\\Users\\gopia\\anaconda3\\lib\\site-packages\\tensorboard\\compat\\tensorflow_stub\\dtypes.py:545: FutureWarning: Passing (type, 1) or '1type' as a synonym of type is deprecated; in a future version of numpy, it will be understood as (type, (1,)) / '(1,)type'.\n",
      "  _np_qint32 = np.dtype([(\"qint32\", np.int32, 1)])\n",
      "C:\\Users\\gopia\\anaconda3\\lib\\site-packages\\tensorboard\\compat\\tensorflow_stub\\dtypes.py:550: FutureWarning: Passing (type, 1) or '1type' as a synonym of type is deprecated; in a future version of numpy, it will be understood as (type, (1,)) / '(1,)type'.\n",
      "  np_resource = np.dtype([(\"resource\", np.ubyte, 1)])\n"
     ]
    }
   ],
   "source": [
    "import keras"
   ]
  },
  {
   "cell_type": "markdown",
   "metadata": {},
   "source": [
    "Library to intialise the model"
   ]
  },
  {
   "cell_type": "code",
   "execution_count": 107,
   "metadata": {},
   "outputs": [],
   "source": [
    "from keras.models import Sequential"
   ]
  },
  {
   "cell_type": "markdown",
   "metadata": {},
   "source": [
    "Library Used to add the model"
   ]
  },
  {
   "cell_type": "code",
   "execution_count": 108,
   "metadata": {},
   "outputs": [],
   "source": [
    "from keras.layers import Dense"
   ]
  },
  {
   "cell_type": "markdown",
   "metadata": {},
   "source": [
    "# Initializing the model "
   ]
  },
  {
   "cell_type": "markdown",
   "metadata": {},
   "source": [
    "Model initialization is the process of determining the necessary model parameters such as the basic value, the trend value, and the seasonal indices for the selected forecast model. It is necessary when you use a model that forecasts a value for one period based on the forecast value for the period directly before it.\n"
   ]
  },
  {
   "cell_type": "code",
   "execution_count": 109,
   "metadata": {},
   "outputs": [
    {
     "name": "stdout",
     "output_type": "stream",
     "text": [
      "WARNING:tensorflow:From C:\\Users\\gopia\\anaconda3\\lib\\site-packages\\keras\\backend\\tensorflow_backend.py:74: The name tf.get_default_graph is deprecated. Please use tf.compat.v1.get_default_graph instead.\n",
      "\n"
     ]
    }
   ],
   "source": [
    "model = Sequential()"
   ]
  },
  {
   "cell_type": "code",
   "execution_count": null,
   "metadata": {},
   "outputs": [],
   "source": []
  }
 ],
 "metadata": {
  "kernelspec": {
   "display_name": "Python 3",
   "language": "python",
   "name": "python3"
  },
  "language_info": {
   "codemirror_mode": {
    "name": "ipython",
    "version": 3
   },
   "file_extension": ".py",
   "mimetype": "text/x-python",
   "name": "python",
   "nbconvert_exporter": "python",
   "pygments_lexer": "ipython3",
   "version": "3.7.6"
  }
 },
 "nbformat": 4,
 "nbformat_minor": 2
}
