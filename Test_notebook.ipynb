{
 "cells": [
  {
   "cell_type": "code",
   "execution_count": 34,
   "metadata": {},
   "outputs": [
    {
     "data": {
      "text/plain": [
       "'C:\\\\Users\\\\gopia\\\\Desktop\\\\Gopi\\\\internship'"
      ]
     },
     "execution_count": 34,
     "metadata": {},
     "output_type": "execute_result"
    }
   ],
   "source": [
    "import os\n",
    "os.getcwd()"
   ]
  },
  {
   "cell_type": "code",
   "execution_count": 35,
   "metadata": {},
   "outputs": [],
   "source": [
    "os.chdir(r\"C:\\Users\\gopia\\Desktop\\Gopi\\internship\")"
   ]
  },
  {
   "cell_type": "code",
   "execution_count": 36,
   "metadata": {},
   "outputs": [
    {
     "data": {
      "text/plain": [
       "'C:\\\\Users\\\\gopia\\\\Desktop\\\\Gopi\\\\internship'"
      ]
     },
     "execution_count": 36,
     "metadata": {},
     "output_type": "execute_result"
    }
   ],
   "source": [
    "os.getcwd()"
   ]
  },
  {
   "cell_type": "code",
   "execution_count": 37,
   "metadata": {},
   "outputs": [],
   "source": [
    "import numpy as np #import numerical data\n",
    "import pandas as pd #contains manipulate function\n",
    "import matplotlib.pyplot as plt #matplotlib. pyplot is a collection of command style functions that make matplotlib work like MATLAB. Each pyplot function makes some change to a figure: e.g., creates a figure, creates a plotting area in a figure, plots some lines in a plotting area, decorates the plot with labels, etc.\n",
    "\n"
   ]
  },
  {
   "cell_type": "code",
   "execution_count": 38,
   "metadata": {},
   "outputs": [
    {
     "data": {
      "text/html": [
       "<div>\n",
       "<style scoped>\n",
       "    .dataframe tbody tr th:only-of-type {\n",
       "        vertical-align: middle;\n",
       "    }\n",
       "\n",
       "    .dataframe tbody tr th {\n",
       "        vertical-align: top;\n",
       "    }\n",
       "\n",
       "    .dataframe thead th {\n",
       "        text-align: right;\n",
       "    }\n",
       "</style>\n",
       "<table border=\"1\" class=\"dataframe\">\n",
       "  <thead>\n",
       "    <tr style=\"text-align: right;\">\n",
       "      <th></th>\n",
       "      <th>Unnamed: 0</th>\n",
       "      <th>asin</th>\n",
       "      <th>helpful</th>\n",
       "      <th>overall</th>\n",
       "      <th>reviewText</th>\n",
       "      <th>reviewTime</th>\n",
       "      <th>reviewerID</th>\n",
       "      <th>reviewerName</th>\n",
       "      <th>summary</th>\n",
       "      <th>unixReviewTime</th>\n",
       "    </tr>\n",
       "  </thead>\n",
       "  <tbody>\n",
       "    <tr>\n",
       "      <th>0</th>\n",
       "      <td>0</td>\n",
       "      <td>B000F83SZQ</td>\n",
       "      <td>[0, 0]</td>\n",
       "      <td>5</td>\n",
       "      <td>I enjoy vintage books and movies so I enjoyed ...</td>\n",
       "      <td>05 5, 2014</td>\n",
       "      <td>A1F6404F1VG29J</td>\n",
       "      <td>Avidreader</td>\n",
       "      <td>Nice vintage story</td>\n",
       "      <td>1399248000</td>\n",
       "    </tr>\n",
       "    <tr>\n",
       "      <th>1</th>\n",
       "      <td>1</td>\n",
       "      <td>B000F83SZQ</td>\n",
       "      <td>[2, 2]</td>\n",
       "      <td>4</td>\n",
       "      <td>This book is a reissue of an old one; the auth...</td>\n",
       "      <td>01 6, 2014</td>\n",
       "      <td>AN0N05A9LIJEQ</td>\n",
       "      <td>critters</td>\n",
       "      <td>Different...</td>\n",
       "      <td>1388966400</td>\n",
       "    </tr>\n",
       "    <tr>\n",
       "      <th>2</th>\n",
       "      <td>2</td>\n",
       "      <td>B000F83SZQ</td>\n",
       "      <td>[2, 2]</td>\n",
       "      <td>4</td>\n",
       "      <td>This was a fairly interesting read.  It had ol...</td>\n",
       "      <td>04 4, 2014</td>\n",
       "      <td>A795DMNCJILA6</td>\n",
       "      <td>dot</td>\n",
       "      <td>Oldie</td>\n",
       "      <td>1396569600</td>\n",
       "    </tr>\n",
       "    <tr>\n",
       "      <th>3</th>\n",
       "      <td>3</td>\n",
       "      <td>B000F83SZQ</td>\n",
       "      <td>[1, 1]</td>\n",
       "      <td>5</td>\n",
       "      <td>I'd never read any of the Amy Brewster mysteri...</td>\n",
       "      <td>02 19, 2014</td>\n",
       "      <td>A1FV0SX13TWVXQ</td>\n",
       "      <td>Elaine H. Turley \"Montana Songbird\"</td>\n",
       "      <td>I really liked it.</td>\n",
       "      <td>1392768000</td>\n",
       "    </tr>\n",
       "    <tr>\n",
       "      <th>4</th>\n",
       "      <td>4</td>\n",
       "      <td>B000F83SZQ</td>\n",
       "      <td>[0, 1]</td>\n",
       "      <td>4</td>\n",
       "      <td>If you like period pieces - clothing, lingo, y...</td>\n",
       "      <td>03 19, 2014</td>\n",
       "      <td>A3SPTOKDG7WBLN</td>\n",
       "      <td>Father Dowling Fan</td>\n",
       "      <td>Period Mystery</td>\n",
       "      <td>1395187200</td>\n",
       "    </tr>\n",
       "    <tr>\n",
       "      <th>...</th>\n",
       "      <td>...</td>\n",
       "      <td>...</td>\n",
       "      <td>...</td>\n",
       "      <td>...</td>\n",
       "      <td>...</td>\n",
       "      <td>...</td>\n",
       "      <td>...</td>\n",
       "      <td>...</td>\n",
       "      <td>...</td>\n",
       "      <td>...</td>\n",
       "    </tr>\n",
       "    <tr>\n",
       "      <th>14569</th>\n",
       "      <td>14569</td>\n",
       "      <td>B003ATPR4C</td>\n",
       "      <td>[0, 0]</td>\n",
       "      <td>3</td>\n",
       "      <td>The book is very short and more pages are fill...</td>\n",
       "      <td>08 28, 2013</td>\n",
       "      <td>A1XX88SJ23WEOY</td>\n",
       "      <td>Lady Reader \"Marj\"</td>\n",
       "      <td>More sex than story</td>\n",
       "      <td>1377648000</td>\n",
       "    </tr>\n",
       "    <tr>\n",
       "      <th>14570</th>\n",
       "      <td>14570</td>\n",
       "      <td>B003ATPR4C</td>\n",
       "      <td>[0, 0]</td>\n",
       "      <td>5</td>\n",
       "      <td>Wonderful story can't wait for the next advent...</td>\n",
       "      <td>08 6, 2013</td>\n",
       "      <td>A14ZDANVIG51R8</td>\n",
       "      <td>Leah Nelson</td>\n",
       "      <td>Wonderful story</td>\n",
       "      <td>1375747200</td>\n",
       "    </tr>\n",
       "    <tr>\n",
       "      <th>14571</th>\n",
       "      <td>14571</td>\n",
       "      <td>B003ATPR4C</td>\n",
       "      <td>[0, 0]</td>\n",
       "      <td>5</td>\n",
       "      <td>Really enjoyed this short.  Characters were we...</td>\n",
       "      <td>03 27, 2013</td>\n",
       "      <td>A198SYM76YRZD9</td>\n",
       "      <td>LisaC</td>\n",
       "      <td>Fun short read!</td>\n",
       "      <td>1364342400</td>\n",
       "    </tr>\n",
       "    <tr>\n",
       "      <th>14572</th>\n",
       "      <td>14572</td>\n",
       "      <td>B003ATPR4C</td>\n",
       "      <td>[2, 2]</td>\n",
       "      <td>5</td>\n",
       "      <td>I really don't read paranormal books, this is ...</td>\n",
       "      <td>03 22, 2013</td>\n",
       "      <td>A3H7J5POTR9TZW</td>\n",
       "      <td>Liz</td>\n",
       "      <td>Unleashed Temptation (Miami Scorcher, Book One)</td>\n",
       "      <td>1363910400</td>\n",
       "    </tr>\n",
       "    <tr>\n",
       "      <th>14573</th>\n",
       "      <td>14573</td>\n",
       "      <td>B003ATPR4C</td>\n",
       "      <td>[0, 0]</td>\n",
       "      <td>5</td>\n",
       "      <td>I like to write reviews but I like to keep the...</td>\n",
       "      <td>04 3, 2014</td>\n",
       "      <td>A3SV49HG0UCKN5</td>\n",
       "      <td>RobinRenae78 \"Robin\"</td>\n",
       "      <td>Another Great Book by Savannah Stuart</td>\n",
       "      <td>1396483200</td>\n",
       "    </tr>\n",
       "  </tbody>\n",
       "</table>\n",
       "<p>14574 rows × 10 columns</p>\n",
       "</div>"
      ],
      "text/plain": [
       "       Unnamed: 0        asin helpful  overall  \\\n",
       "0               0  B000F83SZQ  [0, 0]        5   \n",
       "1               1  B000F83SZQ  [2, 2]        4   \n",
       "2               2  B000F83SZQ  [2, 2]        4   \n",
       "3               3  B000F83SZQ  [1, 1]        5   \n",
       "4               4  B000F83SZQ  [0, 1]        4   \n",
       "...           ...         ...     ...      ...   \n",
       "14569       14569  B003ATPR4C  [0, 0]        3   \n",
       "14570       14570  B003ATPR4C  [0, 0]        5   \n",
       "14571       14571  B003ATPR4C  [0, 0]        5   \n",
       "14572       14572  B003ATPR4C  [2, 2]        5   \n",
       "14573       14573  B003ATPR4C  [0, 0]        5   \n",
       "\n",
       "                                              reviewText   reviewTime  \\\n",
       "0      I enjoy vintage books and movies so I enjoyed ...   05 5, 2014   \n",
       "1      This book is a reissue of an old one; the auth...   01 6, 2014   \n",
       "2      This was a fairly interesting read.  It had ol...   04 4, 2014   \n",
       "3      I'd never read any of the Amy Brewster mysteri...  02 19, 2014   \n",
       "4      If you like period pieces - clothing, lingo, y...  03 19, 2014   \n",
       "...                                                  ...          ...   \n",
       "14569  The book is very short and more pages are fill...  08 28, 2013   \n",
       "14570  Wonderful story can't wait for the next advent...   08 6, 2013   \n",
       "14571  Really enjoyed this short.  Characters were we...  03 27, 2013   \n",
       "14572  I really don't read paranormal books, this is ...  03 22, 2013   \n",
       "14573  I like to write reviews but I like to keep the...   04 3, 2014   \n",
       "\n",
       "           reviewerID                         reviewerName  \\\n",
       "0      A1F6404F1VG29J                           Avidreader   \n",
       "1       AN0N05A9LIJEQ                             critters   \n",
       "2       A795DMNCJILA6                                  dot   \n",
       "3      A1FV0SX13TWVXQ  Elaine H. Turley \"Montana Songbird\"   \n",
       "4      A3SPTOKDG7WBLN                   Father Dowling Fan   \n",
       "...               ...                                  ...   \n",
       "14569  A1XX88SJ23WEOY                   Lady Reader \"Marj\"   \n",
       "14570  A14ZDANVIG51R8                          Leah Nelson   \n",
       "14571  A198SYM76YRZD9                                LisaC   \n",
       "14572  A3H7J5POTR9TZW                                  Liz   \n",
       "14573  A3SV49HG0UCKN5                 RobinRenae78 \"Robin\"   \n",
       "\n",
       "                                               summary  unixReviewTime  \n",
       "0                                   Nice vintage story      1399248000  \n",
       "1                                         Different...      1388966400  \n",
       "2                                                Oldie      1396569600  \n",
       "3                                   I really liked it.      1392768000  \n",
       "4                                       Period Mystery      1395187200  \n",
       "...                                                ...             ...  \n",
       "14569                              More sex than story      1377648000  \n",
       "14570                                  Wonderful story      1375747200  \n",
       "14571                                  Fun short read!      1364342400  \n",
       "14572  Unleashed Temptation (Miami Scorcher, Book One)      1363910400  \n",
       "14573            Another Great Book by Savannah Stuart      1396483200  \n",
       "\n",
       "[14574 rows x 10 columns]"
      ]
     },
     "execution_count": 38,
     "metadata": {},
     "output_type": "execute_result"
    }
   ],
   "source": [
    "data1 = pd.read_csv('reviews_book1.csv') #the data in the csv file is stored in data1\n",
    "data1"
   ]
  },
  {
   "cell_type": "code",
   "execution_count": 39,
   "metadata": {},
   "outputs": [
    {
     "data": {
      "text/html": [
       "<div>\n",
       "<style scoped>\n",
       "    .dataframe tbody tr th:only-of-type {\n",
       "        vertical-align: middle;\n",
       "    }\n",
       "\n",
       "    .dataframe tbody tr th {\n",
       "        vertical-align: top;\n",
       "    }\n",
       "\n",
       "    .dataframe thead th {\n",
       "        text-align: right;\n",
       "    }\n",
       "</style>\n",
       "<table border=\"1\" class=\"dataframe\">\n",
       "  <thead>\n",
       "    <tr style=\"text-align: right;\">\n",
       "      <th></th>\n",
       "      <th>summary</th>\n",
       "      <th>overall</th>\n",
       "      <th>sentiment</th>\n",
       "    </tr>\n",
       "  </thead>\n",
       "  <tbody>\n",
       "    <tr>\n",
       "      <th>0</th>\n",
       "      <td>Nice vintage story</td>\n",
       "      <td>5</td>\n",
       "      <td>1</td>\n",
       "    </tr>\n",
       "    <tr>\n",
       "      <th>1</th>\n",
       "      <td>Different...</td>\n",
       "      <td>4</td>\n",
       "      <td>1</td>\n",
       "    </tr>\n",
       "    <tr>\n",
       "      <th>2</th>\n",
       "      <td>Oldie</td>\n",
       "      <td>4</td>\n",
       "      <td>1</td>\n",
       "    </tr>\n",
       "    <tr>\n",
       "      <th>3</th>\n",
       "      <td>I really liked it.</td>\n",
       "      <td>5</td>\n",
       "      <td>1</td>\n",
       "    </tr>\n",
       "    <tr>\n",
       "      <th>4</th>\n",
       "      <td>Period Mystery</td>\n",
       "      <td>4</td>\n",
       "      <td>1</td>\n",
       "    </tr>\n",
       "    <tr>\n",
       "      <th>...</th>\n",
       "      <td>...</td>\n",
       "      <td>...</td>\n",
       "      <td>...</td>\n",
       "    </tr>\n",
       "    <tr>\n",
       "      <th>12515</th>\n",
       "      <td>Beautiful!</td>\n",
       "      <td>5</td>\n",
       "      <td>1</td>\n",
       "    </tr>\n",
       "    <tr>\n",
       "      <th>12516</th>\n",
       "      <td>Wonderful story</td>\n",
       "      <td>5</td>\n",
       "      <td>1</td>\n",
       "    </tr>\n",
       "    <tr>\n",
       "      <th>12517</th>\n",
       "      <td>Fun short read!</td>\n",
       "      <td>5</td>\n",
       "      <td>1</td>\n",
       "    </tr>\n",
       "    <tr>\n",
       "      <th>12518</th>\n",
       "      <td>Unleashed Temptation (Miami Scorcher, Book One)</td>\n",
       "      <td>5</td>\n",
       "      <td>1</td>\n",
       "    </tr>\n",
       "    <tr>\n",
       "      <th>12519</th>\n",
       "      <td>Another Great Book by Savannah Stuart</td>\n",
       "      <td>5</td>\n",
       "      <td>1</td>\n",
       "    </tr>\n",
       "  </tbody>\n",
       "</table>\n",
       "<p>12520 rows × 3 columns</p>\n",
       "</div>"
      ],
      "text/plain": [
       "                                               summary  overall  sentiment\n",
       "0                                   Nice vintage story        5          1\n",
       "1                                         Different...        4          1\n",
       "2                                                Oldie        4          1\n",
       "3                                   I really liked it.        5          1\n",
       "4                                       Period Mystery        4          1\n",
       "...                                                ...      ...        ...\n",
       "12515                                       Beautiful!        5          1\n",
       "12516                                  Wonderful story        5          1\n",
       "12517                                  Fun short read!        5          1\n",
       "12518  Unleashed Temptation (Miami Scorcher, Book One)        5          1\n",
       "12519            Another Great Book by Savannah Stuart        5          1\n",
       "\n",
       "[12520 rows x 3 columns]"
      ]
     },
     "execution_count": 39,
     "metadata": {},
     "output_type": "execute_result"
    }
   ],
   "source": [
    "df=data1\n",
    "df=df[['summary','overall']]\n",
    "df=df[df['overall']!=3]\n",
    "df=df.reset_index(drop=True)\n",
    "df['sentiment']=np.where(df['overall'] > 3, 1, 0)\n",
    "df"
   ]
  },
  {
   "cell_type": "code",
   "execution_count": 40,
   "metadata": {},
   "outputs": [
    {
     "name": "stderr",
     "output_type": "stream",
     "text": [
      "[nltk_data] Downloading package stopwords to\n",
      "[nltk_data]     C:\\Users\\gopia\\AppData\\Roaming\\nltk_data...\n",
      "[nltk_data]   Package stopwords is already up-to-date!\n"
     ]
    }
   ],
   "source": [
    "# Import libraries\n",
    "import re  #“Re” is the library which is used to replace the selected special characters with desired parameter.\n",
    "import nltk #“NLTK” – Natural language Tool Kit is the library used for stemming using a special class in the library. \n",
    "nltk.download('stopwords')\n",
    "from nltk.corpus import stopwords\n",
    "from nltk.stem.porter import PorterStemmer\n",
    "ps=PorterStemmer()\n",
    "data=[]"
   ]
  },
  {
   "cell_type": "code",
   "execution_count": 41,
   "metadata": {},
   "outputs": [],
   "source": [
    "for i in range(0,1000):\n",
    "    review = data1[\"summary\"][i]\n",
    "    review = re.sub('[^a-zA-Z]', ' ', review)\n",
    "    review = review.lower()\n",
    "    review = review.split()\n",
    "    review = [ps.stem(word) for word in review if not word in set(stopwords.words('english'))]\n",
    "    review = ' '.join(review)\n",
    "    data.append(review)"
   ]
  },
  {
   "cell_type": "code",
   "execution_count": 42,
   "metadata": {},
   "outputs": [
    {
     "data": {
      "text/plain": [
       "['nice vintag stori',\n",
       " 'differ',\n",
       " 'oldi',\n",
       " 'realli like',\n",
       " 'period mysteri',\n",
       " 'review',\n",
       " 'nice old fashion stori',\n",
       " 'enjoy read remind old time',\n",
       " 'darth maul',\n",
       " 'bad except',\n",
       " 'audio book',\n",
       " 'darth maul brother never',\n",
       " 'bad well written',\n",
       " 'han leia reunit barabel jedi introduc',\n",
       " 'possibl import',\n",
       " 'anoth read',\n",
       " 'recoveri',\n",
       " 'star war new jedi order recoveri',\n",
       " 'collect',\n",
       " 'necessari read like',\n",
       " 'fit right new jedi order timelin',\n",
       " 'minor new jedi order side stori',\n",
       " 'ylesia',\n",
       " 'thrackan stori',\n",
       " 'e collect',\n",
       " 'one huge chapter',\n",
       " 'interest short stori',\n",
       " 'short stori featur everyon favorit wookie',\n",
       " 'great',\n",
       " 'anoth read',\n",
       " 'love',\n",
       " 'star war forest apart',\n",
       " 'collect',\n",
       " 'enjoy',\n",
       " 'good quick read',\n",
       " 'enjoy imperi slice life stori',\n",
       " 'short stori',\n",
       " 'great',\n",
       " 'stormtroop',\n",
       " 'short enough stori',\n",
       " 'star war fool bargain',\n",
       " 'enjoy unremark stormtroop tale',\n",
       " 'averag short stori',\n",
       " 'excel',\n",
       " 'unlik possibl stori well told',\n",
       " 'gail',\n",
       " 'great read',\n",
       " 'irish luck',\n",
       " 'good afternoon read',\n",
       " 'wow transit',\n",
       " 'classic master',\n",
       " 'love',\n",
       " 'nice read',\n",
       " '',\n",
       " 'good resourc',\n",
       " 'compar contrast better understand',\n",
       " 'move',\n",
       " 'anoth good l l read',\n",
       " 'brionn',\n",
       " 'gail',\n",
       " 'run head west',\n",
       " 'brionn',\n",
       " 'classic',\n",
       " 'also excit descript',\n",
       " 'think get heard chief editor speak',\n",
       " 'wall street journal',\n",
       " 'wsj standard',\n",
       " 'wsj gone pot',\n",
       " 'high price',\n",
       " 'conveni simpli format pricey',\n",
       " 'ok restrict',\n",
       " 'quit disast',\n",
       " 'kindl edit ok onlin great iphon app sadli lack',\n",
       " 'big disappoint',\n",
       " 'still great newspap',\n",
       " 'good report lot content',\n",
       " 'expens',\n",
       " 'excel conveni way read wsj complaint',\n",
       " 'good read',\n",
       " 'time get today paper',\n",
       " 'improv warm',\n",
       " 'irrespons jornal stale idea',\n",
       " 'wish time read',\n",
       " 'download doubl plu',\n",
       " 'pretti good kindl perfect',\n",
       " 'good newspap',\n",
       " 'none receiv',\n",
       " 'expens peski drm',\n",
       " 'good summari current event',\n",
       " 'comprehens well written news',\n",
       " 'ny time kindl format great',\n",
       " 'sunday edit',\n",
       " 'one rate newspap',\n",
       " 'love nyt sometim person experi',\n",
       " 'fantast way costli',\n",
       " 'icon paper well done kindl worth tri',\n",
       " 'time great kindl app lack littl',\n",
       " 'new app better',\n",
       " 'good paper',\n",
       " 'great paper would like lower price']"
      ]
     },
     "execution_count": 42,
     "metadata": {},
     "output_type": "execute_result"
    }
   ],
   "source": [
    "data[:100]"
   ]
  },
  {
   "cell_type": "code",
   "execution_count": 43,
   "metadata": {},
   "outputs": [
    {
     "data": {
      "text/plain": [
       "'!\"#$%&\\'()*+,-./:;<=>?@[\\\\]^_`{|}~'"
      ]
     },
     "execution_count": 43,
     "metadata": {},
     "output_type": "execute_result"
    }
   ],
   "source": [
    "import string\n",
    "string.punctuation\n"
   ]
  },
  {
   "cell_type": "code",
   "execution_count": 44,
   "metadata": {},
   "outputs": [],
   "source": [
    "from sklearn.feature_extraction.text import CountVectorizer\n",
    "cv = CountVectorizer(max_features=1500,min_df=5,ngram_range=(1,2))"
   ]
  },
  {
   "cell_type": "code",
   "execution_count": 45,
   "metadata": {},
   "outputs": [],
   "source": [
    "X = cv.fit_transform(df[\"summary\"].apply(lambda x: np.str_(x))) \n",
    "y=df.iloc[:,2].values\n",
    "y.shape\n",
    "y=y.reshape(-1,1)"
   ]
  },
  {
   "cell_type": "code",
   "execution_count": 46,
   "metadata": {},
   "outputs": [],
   "source": [
    "import pickle\n",
    "pickle.dump(cv, open(\"cv.pkl\", \"wb\"))"
   ]
  },
  {
   "cell_type": "code",
   "execution_count": 47,
   "metadata": {},
   "outputs": [],
   "source": [
    "from sklearn.model_selection import train_test_split\n"
   ]
  },
  {
   "cell_type": "code",
   "execution_count": 48,
   "metadata": {},
   "outputs": [],
   "source": [
    "# split the data set into train and test\n",
    "X_train, X_test, y_train, y_test = train_test_split(X, y, test_size = 0.20, random_state = 0)\n",
    "\n"
   ]
  },
  {
   "cell_type": "code",
   "execution_count": 49,
   "metadata": {},
   "outputs": [
    {
     "data": {
      "text/plain": [
       "<10016x1500 sparse matrix of type '<class 'numpy.int64'>'\n",
       "\twith 37840 stored elements in Compressed Sparse Row format>"
      ]
     },
     "execution_count": 49,
     "metadata": {},
     "output_type": "execute_result"
    }
   ],
   "source": [
    "X_train\n"
   ]
  },
  {
   "cell_type": "code",
   "execution_count": 50,
   "metadata": {},
   "outputs": [
    {
     "data": {
      "text/plain": [
       "array([[1],\n",
       "       [0],\n",
       "       [1],\n",
       "       ...,\n",
       "       [1],\n",
       "       [1],\n",
       "       [1]])"
      ]
     },
     "execution_count": 50,
     "metadata": {},
     "output_type": "execute_result"
    }
   ],
   "source": [
    "y_train"
   ]
  },
  {
   "cell_type": "code",
   "execution_count": 51,
   "metadata": {},
   "outputs": [
    {
     "data": {
      "text/plain": [
       "array([[1],\n",
       "       [1],\n",
       "       [1],\n",
       "       ...,\n",
       "       [1],\n",
       "       [1],\n",
       "       [1]])"
      ]
     },
     "execution_count": 51,
     "metadata": {},
     "output_type": "execute_result"
    }
   ],
   "source": [
    "y_test"
   ]
  },
  {
   "cell_type": "code",
   "execution_count": 52,
   "metadata": {},
   "outputs": [
    {
     "name": "stdout",
     "output_type": "stream",
     "text": [
      "Requirement already satisfied: keras==2.3.1 in c:\\users\\gopia\\anaconda3\\lib\\site-packages (2.3.1)\n",
      "Requirement already satisfied: pyyaml in c:\\users\\gopia\\anaconda3\\lib\\site-packages (from keras==2.3.1) (5.3)\n",
      "Requirement already satisfied: keras-preprocessing>=1.0.5 in c:\\users\\gopia\\anaconda3\\lib\\site-packages (from keras==2.3.1) (1.1.0)\n",
      "Requirement already satisfied: scipy>=0.14 in c:\\users\\gopia\\anaconda3\\lib\\site-packages (from keras==2.3.1) (1.4.1)\n",
      "Requirement already satisfied: numpy>=1.9.1 in c:\\users\\gopia\\anaconda3\\lib\\site-packages (from keras==2.3.1) (1.18.1)\n",
      "Requirement already satisfied: keras-applications>=1.0.6 in c:\\users\\gopia\\anaconda3\\lib\\site-packages (from keras==2.3.1) (1.0.8)\n",
      "Requirement already satisfied: six>=1.9.0 in c:\\users\\gopia\\anaconda3\\lib\\site-packages (from keras==2.3.1) (1.14.0)\n",
      "Requirement already satisfied: h5py in c:\\users\\gopia\\anaconda3\\lib\\site-packages (from keras==2.3.1) (2.10.0)\n",
      "Note: you may need to restart the kernel to use updated packages.\n"
     ]
    }
   ],
   "source": [
    "pip install keras==2.3.1"
   ]
  },
  {
   "cell_type": "code",
   "execution_count": 53,
   "metadata": {},
   "outputs": [
    {
     "name": "stdout",
     "output_type": "stream",
     "text": [
      "Requirement already satisfied: tensorflow==1.14 in c:\\users\\gopia\\anaconda3\\lib\\site-packages (1.14.0)\n",
      "Requirement already satisfied: termcolor>=1.1.0 in c:\\users\\gopia\\anaconda3\\lib\\site-packages (from tensorflow==1.14) (1.1.0)\n",
      "Requirement already satisfied: grpcio>=1.8.6 in c:\\users\\gopia\\anaconda3\\lib\\site-packages (from tensorflow==1.14) (1.28.1)\n",
      "Requirement already satisfied: tensorboard<1.15.0,>=1.14.0 in c:\\users\\gopia\\anaconda3\\lib\\site-packages (from tensorflow==1.14) (1.14.0)\n",
      "Requirement already satisfied: numpy<2.0,>=1.14.5 in c:\\users\\gopia\\anaconda3\\lib\\site-packages (from tensorflow==1.14) (1.18.1)\n",
      "Requirement already satisfied: keras-applications>=1.0.6 in c:\\users\\gopia\\anaconda3\\lib\\site-packages (from tensorflow==1.14) (1.0.8)\n",
      "Requirement already satisfied: google-pasta>=0.1.6 in c:\\users\\gopia\\anaconda3\\lib\\site-packages (from tensorflow==1.14) (0.2.0)\n",
      "Requirement already satisfied: six>=1.10.0 in c:\\users\\gopia\\anaconda3\\lib\\site-packages (from tensorflow==1.14) (1.14.0)\n",
      "Requirement already satisfied: gast>=0.2.0 in c:\\users\\gopia\\anaconda3\\lib\\site-packages (from tensorflow==1.14) (0.2.2)\n",
      "Requirement already satisfied: tensorflow-estimator<1.15.0rc0,>=1.14.0rc0 in c:\\users\\gopia\\anaconda3\\lib\\site-packages (from tensorflow==1.14) (1.14.0)\n",
      "Requirement already satisfied: absl-py>=0.7.0 in c:\\users\\gopia\\anaconda3\\lib\\site-packages (from tensorflow==1.14) (0.9.0)\n",
      "Requirement already satisfied: wheel>=0.26 in c:\\users\\gopia\\anaconda3\\lib\\site-packages (from tensorflow==1.14) (0.34.2)\n",
      "Requirement already satisfied: keras-preprocessing>=1.0.5 in c:\\users\\gopia\\anaconda3\\lib\\site-packages (from tensorflow==1.14) (1.1.0)\n",
      "Requirement already satisfied: protobuf>=3.6.1 in c:\\users\\gopia\\anaconda3\\lib\\site-packages (from tensorflow==1.14) (3.11.3)\n",
      "Requirement already satisfied: astor>=0.6.0 in c:\\users\\gopia\\anaconda3\\lib\\site-packages (from tensorflow==1.14) (0.8.1)\n",
      "Requirement already satisfied: wrapt>=1.11.1 in c:\\users\\gopia\\anaconda3\\lib\\site-packages (from tensorflow==1.14) (1.11.2)\n",
      "Requirement already satisfied: setuptools>=41.0.0 in c:\\users\\gopia\\anaconda3\\lib\\site-packages (from tensorboard<1.15.0,>=1.14.0->tensorflow==1.14) (45.2.0.post20200210)\n",
      "Requirement already satisfied: werkzeug>=0.11.15 in c:\\users\\gopia\\anaconda3\\lib\\site-packages (from tensorboard<1.15.0,>=1.14.0->tensorflow==1.14) (1.0.0)\n",
      "Requirement already satisfied: markdown>=2.6.8 in c:\\users\\gopia\\anaconda3\\lib\\site-packages (from tensorboard<1.15.0,>=1.14.0->tensorflow==1.14) (3.2.1)\n",
      "Requirement already satisfied: h5py in c:\\users\\gopia\\anaconda3\\lib\\site-packages (from keras-applications>=1.0.6->tensorflow==1.14) (2.10.0)\n",
      "Note: you may need to restart the kernel to use updated packages.\n"
     ]
    }
   ],
   "source": [
    "pip install tensorflow==1.14"
   ]
  },
  {
   "cell_type": "code",
   "execution_count": 54,
   "metadata": {},
   "outputs": [],
   "source": [
    "import keras"
   ]
  },
  {
   "cell_type": "code",
   "execution_count": 55,
   "metadata": {},
   "outputs": [],
   "source": [
    "from keras.models import Sequential"
   ]
  },
  {
   "cell_type": "code",
   "execution_count": 56,
   "metadata": {},
   "outputs": [],
   "source": [
    "from keras.layers import Dense"
   ]
  },
  {
   "cell_type": "code",
   "execution_count": 57,
   "metadata": {},
   "outputs": [],
   "source": [
    "model = Sequential()"
   ]
  },
  {
   "cell_type": "code",
   "execution_count": 58,
   "metadata": {},
   "outputs": [
    {
     "name": "stderr",
     "output_type": "stream",
     "text": [
      "C:\\Users\\gopia\\anaconda3\\lib\\site-packages\\ipykernel_launcher.py:1: UserWarning: Update your `Dense` call to the Keras 2 API: `Dense(activation=\"relu\", input_dim=1500, units=8, kernel_initializer=\"uniform\")`\n",
      "  \"\"\"Entry point for launching an IPython kernel.\n"
     ]
    }
   ],
   "source": [
    "model.add(Dense(output_dim = 8, init = 'uniform', activation = 'relu', input_dim = 1500))"
   ]
  },
  {
   "cell_type": "code",
   "execution_count": 59,
   "metadata": {},
   "outputs": [
    {
     "name": "stderr",
     "output_type": "stream",
     "text": [
      "C:\\Users\\gopia\\anaconda3\\lib\\site-packages\\ipykernel_launcher.py:1: UserWarning: Update your `Dense` call to the Keras 2 API: `Dense(activation=\"relu\", units=8, kernel_initializer=\"uniform\")`\n",
      "  \"\"\"Entry point for launching an IPython kernel.\n"
     ]
    }
   ],
   "source": [
    "model.add(Dense(output_dim = 8, init = 'uniform', activation = 'relu'))"
   ]
  },
  {
   "cell_type": "code",
   "execution_count": 60,
   "metadata": {},
   "outputs": [
    {
     "name": "stderr",
     "output_type": "stream",
     "text": [
      "C:\\Users\\gopia\\anaconda3\\lib\\site-packages\\ipykernel_launcher.py:1: UserWarning: Update your `Dense` call to the Keras 2 API: `Dense(activation=\"sigmoid\", units=1, kernel_initializer=\"uniform\")`\n",
      "  \"\"\"Entry point for launching an IPython kernel.\n"
     ]
    }
   ],
   "source": [
    "model.add(Dense(output_dim = 1, init = 'uniform', activation = 'sigmoid'))"
   ]
  },
  {
   "cell_type": "code",
   "execution_count": 61,
   "metadata": {},
   "outputs": [],
   "source": [
    "model.compile(optimizer = 'adam', loss = 'binary_crossentropy', metrics = ['accuracy'])"
   ]
  },
  {
   "cell_type": "markdown",
   "metadata": {},
   "source": [
    "# Training the model"
   ]
  },
  {
   "cell_type": "code",
   "execution_count": 62,
   "metadata": {},
   "outputs": [
    {
     "name": "stdout",
     "output_type": "stream",
     "text": [
      "WARNING:tensorflow:From C:\\Users\\gopia\\anaconda3\\lib\\site-packages\\keras\\backend\\tensorflow_backend.py:422: The name tf.global_variables is deprecated. Please use tf.compat.v1.global_variables instead.\n",
      "\n",
      "Epoch 1/10\n",
      "10016/10016 [==============================] - 0s 48us/step - loss: 0.4503 - accuracy: 0.8765\n",
      "Epoch 2/10\n",
      "10016/10016 [==============================] - 0s 37us/step - loss: 0.2748 - accuracy: 0.8780\n",
      "Epoch 3/10\n",
      "10016/10016 [==============================] - 0s 40us/step - loss: 0.2327 - accuracy: 0.8780\n",
      "Epoch 4/10\n",
      "10016/10016 [==============================] - 0s 40us/step - loss: 0.2084 - accuracy: 0.8900\n",
      "Epoch 5/10\n",
      "10016/10016 [==============================] - 0s 38us/step - loss: 0.1950 - accuracy: 0.9263\n",
      "Epoch 6/10\n",
      "10016/10016 [==============================] - 0s 39us/step - loss: 0.1857 - accuracy: 0.9308\n",
      "Epoch 7/10\n",
      "10016/10016 [==============================] - 0s 39us/step - loss: 0.1778 - accuracy: 0.9345\n",
      "Epoch 8/10\n",
      "10016/10016 [==============================] - 0s 38us/step - loss: 0.1714 - accuracy: 0.9363\n",
      "Epoch 9/10\n",
      "10016/10016 [==============================] - 0s 45us/step - loss: 0.1651 - accuracy: 0.9404\n",
      "Epoch 10/10\n",
      "10016/10016 [==============================] - 0s 43us/step - loss: 0.1604 - accuracy: 0.9418\n"
     ]
    },
    {
     "data": {
      "text/plain": [
       "<keras.callbacks.callbacks.History at 0x2aadba413c8>"
      ]
     },
     "execution_count": 62,
     "metadata": {},
     "output_type": "execute_result"
    }
   ],
   "source": [
    "model.fit(X_train,y_train,batch_size=32,epochs=10)"
   ]
  },
  {
   "cell_type": "markdown",
   "metadata": {},
   "source": [
    "# Save The Model:"
   ]
  },
  {
   "cell_type": "code",
   "execution_count": 64,
   "metadata": {},
   "outputs": [],
   "source": [
    "model.save('mymodel.h5')\n"
   ]
  },
  {
   "cell_type": "markdown",
   "metadata": {},
   "source": [
    "# Test The Model"
   ]
  },
  {
   "cell_type": "code",
   "execution_count": 65,
   "metadata": {},
   "outputs": [],
   "source": [
    "y_pred=model.predict(X_test)\n",
    "y_pred=y_pred>0.5"
   ]
  },
  {
   "cell_type": "code",
   "execution_count": 66,
   "metadata": {},
   "outputs": [],
   "source": [
    "r=model.predict(cv.transform([\"bad \"]))"
   ]
  },
  {
   "cell_type": "code",
   "execution_count": 67,
   "metadata": {},
   "outputs": [],
   "source": [
    "r2=model.predict(cv.transform([\"good \"]))"
   ]
  },
  {
   "cell_type": "code",
   "execution_count": 68,
   "metadata": {},
   "outputs": [
    {
     "name": "stdout",
     "output_type": "stream",
     "text": [
      "Negative\n"
     ]
    }
   ],
   "source": [
    "if (r>0.5):\n",
    "    print(\"Positive\")\n",
    "else:\n",
    "    print(\"Negative\")"
   ]
  },
  {
   "cell_type": "code",
   "execution_count": 69,
   "metadata": {},
   "outputs": [
    {
     "name": "stdout",
     "output_type": "stream",
     "text": [
      "Positive\n"
     ]
    }
   ],
   "source": [
    "if (r2>0.5):\n",
    "    print(\"Positive\")\n",
    "else:\n",
    "    print(\"Negative\")"
   ]
  },
  {
   "cell_type": "code",
   "execution_count": null,
   "metadata": {},
   "outputs": [],
   "source": []
  }
 ],
 "metadata": {
  "kernelspec": {
   "display_name": "Python 3",
   "language": "python",
   "name": "python3"
  },
  "language_info": {
   "codemirror_mode": {
    "name": "ipython",
    "version": 3
   },
   "file_extension": ".py",
   "mimetype": "text/x-python",
   "name": "python",
   "nbconvert_exporter": "python",
   "pygments_lexer": "ipython3",
   "version": "3.7.6"
  }
 },
 "nbformat": 4,
 "nbformat_minor": 4
}
